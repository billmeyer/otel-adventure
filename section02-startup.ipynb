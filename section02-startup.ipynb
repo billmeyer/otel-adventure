{
 "cells": [
  {
   "cell_type": "markdown",
   "id": "f0d374c2-7253-4166-ad59-28d7af270410",
   "metadata": {
    "editable": true,
    "slideshow": {
     "slide_type": ""
    },
    "tags": []
   },
   "source": [
    "# Startup\n",
    "\n",
    "## Clone the workshop from GitHub:\n",
    "\n",
    "1. From your `$HOME` directory:\n",
    "\n",
    "    ```bash\n",
    "    git clone https://github.com/billmeyer/opentelemetry-handson\n",
    "    cd opentelemetry-handson\n",
    "    ```"
   ]
  },
  {
   "cell_type": "markdown",
   "id": "62967640-076d-422b-8e8e-7fad722fef07",
   "metadata": {
    "editable": true,
    "slideshow": {
     "slide_type": ""
    },
    "tags": []
   },
   "source": [
    "## Set Environment Variables\n",
    "\n",
    "The following environment variables will be used through this workshop. Retrieve these from your Datadog Organization:\n",
    "\n",
    "* DD_API_KEY - [Select an API Key from your Org](https://app.datadoghq.com/organization-settings/api-keys/)\n",
    "* DD_SITE_PARAMETER - [Select the appropriate Datadog Site for your Org](https://docs.datadoghq.com/getting_started/site/)\n",
    "\n",
    "1. Create a file named `.env` in the local directory and **replace the values in the angle brackets with the values from above**:\n",
    "\n",
    "```\n",
    "    export DD_API_KEY=<my api key>\n",
    "    export DD_SITE_PARAMETER=<my datadog site>\n",
    "```\n",
    "\n",
    "Example `.env` file:\n",
    "\n",
    "```\n",
    "    export DD_API_KEY=xxxxxxxxxxxxxxxxxxxxxxxxxxxxxxxx\n",
    "    export DD_SITE_PARAMETER=datadoghq.com\n",
    "```\n",
    "\n",
    "## Confirm Values in .env"
   ]
  },
  {
   "cell_type": "code",
   "execution_count": null,
   "id": "791c3b65-4818-4725-a243-776ccb73896c",
   "metadata": {
    "editable": true,
    "slideshow": {
     "slide_type": ""
    },
    "tags": []
   },
   "outputs": [],
   "source": [
    "!cat .env"
   ]
  },
  {
   "cell_type": "markdown",
   "id": "7bb46c99-402d-4154-b35a-37bf281bb75b",
   "metadata": {
    "editable": true,
    "slideshow": {
     "slide_type": ""
    },
    "tags": []
   },
   "source": [
    "## Start Jupyter Lab\n",
    "\n",
    "1. In a terminal window, run:\n",
    "\n",
    "```bash\n",
    "./start.sh\n",
    "```"
   ]
  },
  {
   "cell_type": "markdown",
   "id": "e8a2cb86-3f39-4e0e-91fc-9fa9e39c90ba",
   "metadata": {
    "slideshow": {
     "slide_type": ""
    },
    "tags": []
   },
   "source": [
    "#### End of Section"
   ]
  },
  {
   "cell_type": "code",
   "execution_count": null,
   "id": "5b75fdc1-5d2e-4c24-851c-707694fdea06",
   "metadata": {
    "editable": true,
    "slideshow": {
     "slide_type": ""
    },
    "tags": []
   },
   "outputs": [],
   "source": []
  }
 ],
 "metadata": {
  "kernelspec": {
   "display_name": "Python 3 (ipykernel)",
   "language": "python",
   "name": "python3"
  },
  "language_info": {
   "codemirror_mode": {
    "name": "ipython",
    "version": 3
   },
   "file_extension": ".py",
   "mimetype": "text/x-python",
   "name": "python",
   "nbconvert_exporter": "python",
   "pygments_lexer": "ipython3",
   "version": "3.12.5"
  }
 },
 "nbformat": 4,
 "nbformat_minor": 5
}
