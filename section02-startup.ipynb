{
 "cells": [
  {
   "cell_type": "markdown",
   "id": "f0d374c2-7253-4166-ad59-28d7af270410",
   "metadata": {},
   "source": [
    "# Startup\n",
    "\n",
    "## Clone the workshop from GitHub:\n",
    "\n",
    "1. From your `$HOME` directory:\n",
    "\n",
    "    ```bash\n",
    "    git clone https://github.com/billmeyer/opentelemetry-handson\n",
    "    cd opentelemetry-handson\n",
    "    ```"
   ]
  },
  {
   "cell_type": "markdown",
   "id": "c63743be-ac83-43d8-9f25-fa4bac0a211d",
   "metadata": {},
   "source": [
    "## Set Environment Variables\n",
    "\n",
    "1. The following environment variables will be used through this workshop. Ensure that they match your Datadog Organization:\n",
    "\n",
    "* DD_API_KEY - [Select an API Key from your Org](https://app.datadoghq.com/organization-settings/api-keys/)\n",
    "* DD_SITE_PARAMETER - [Select the appropriate Datadog Site for your Org](https://docs.datadoghq.com/getting_started/site/)\n",
    "\n",
    "2. Create a file named `.env` in the local directory and replace the values in the angle brackets with the values from above:\n",
    "\n",
    "```\n",
    "DD_API_KEY=<my api key>\n",
    "DD_SITE_PARAMETER=<my datadog site>\n",
    "```\n"
   ]
  },
  {
   "cell_type": "markdown",
   "id": "63361d2c-08b0-4192-839b-4ac3f14ac159",
   "metadata": {},
   "source": [
    "# Start Jupyter Lab\n",
    "\n",
    "1. In a terminal window, run:\n",
    "\n",
    "```bash\n",
    "./start.sh\n",
    "```\n"
   ]
  }
 ],
 "metadata": {
  "kernelspec": {
   "display_name": "Python 3 (ipykernel)",
   "language": "python",
   "name": "python3"
  },
  "language_info": {
   "codemirror_mode": {
    "name": "ipython",
    "version": 3
   },
   "file_extension": ".py",
   "mimetype": "text/x-python",
   "name": "python",
   "nbconvert_exporter": "python",
   "pygments_lexer": "ipython3",
   "version": "3.12.5"
  }
 },
 "nbformat": 4,
 "nbformat_minor": 5
}
