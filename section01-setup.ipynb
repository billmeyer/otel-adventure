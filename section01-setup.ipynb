{
 "cells": [
  {
   "cell_type": "markdown",
   "id": "f0d374c2-7253-4166-ad59-28d7af270410",
   "metadata": {},
   "source": [
    "# Setup\n",
    "\n",
    "## Clone the workshop from GitHub:\n",
    "\n",
    "1. From your `$HOME` directory:\n",
    "\n",
    "    ```bash\n",
    "    git clone https://github.com/billmeyer/opentelemetry-handson\n",
    "    cd opentelemetry-handson\n",
    "    ```\n",
    "\n",
    "## Download the OpenTelemetry Contrib Collector\n",
    "\n",
    "1. Download an **OpenTelemetry \"Contrib\" Collector** for your operating system. For macOS on Apple Silicon, download **otelcol-contrib_0.112.0_darwin_arm64.tar.gz** [[macos](https://github.com/open-telemetry/opentelemetry-collector-releases/releases/download/v0.112.0/otelcol-contrib_0.112.0_darwin_arm64.tar.gz)][[linux](https://github.com/open-telemetry/opentelemetry-collector-releases/releases/download/v0.112.0/otelcol-contrib_0.112.0_linux_amd64.tar.gz)]. Save the download in the same directory as this lab.  Other platforms can be download from https://github.com/open-telemetry/opentelemetry-collector-releases/releases.\n",
    "\n",
    "2. Extract the binary:\n",
    "   \n",
    "   ```bash\n",
    "   tar zxf otelcol-contrib_0.112.0_darwin_arm64.tar.gz otelcol-contrib\n",
    "   ```\n",
    "\n",
    "3. Confirm that file is extracted and has execute permissions:\n",
    "\n",
    "    ```bash\n",
    "    ls -l otelcol-contrib\n",
    "    -rwxr-xr-x@ 1 bill.meyer  staff  259733666 Oct 23 09:39 otelcol-contrib*\n",
    "    ```"
   ]
  },
  {
   "cell_type": "markdown",
   "id": "c63743be-ac83-43d8-9f25-fa4bac0a211d",
   "metadata": {},
   "source": [
    "## Set Environment Variables\n",
    "\n",
    "1. Ensure you have the following environment variables set:\n",
    "\n",
    "* DD_API_KEY - [Select an API Key from your Org](https://app.datadoghq.com/organization-settings/api-keys/)\n",
    "* DD_SITE_PARAMETER - [Select the appropriate Datadog Site for your Org](https://docs.datadoghq.com/getting_started/site/)\n",
    "\n",
    "2. Create a file named `.env` in the local directory and specify the above values:\n",
    "\n",
    "```\n",
    "DD_API_KEY=<my api key>\n",
    "DD_SITE_PARAMETER=<my datadog site>\n",
    "```\n"
   ]
  },
  {
   "cell_type": "markdown",
   "id": "63361d2c-08b0-4192-839b-4ac3f14ac159",
   "metadata": {},
   "source": [
    "# Start Jupyter Lab\n",
    "\n",
    "1. In a terminal window, run:\n",
    "\n",
    "```bash\n",
    "./start.sh\n",
    "```\n"
   ]
  }
 ],
 "metadata": {
  "kernelspec": {
   "display_name": "Python 3 (ipykernel)",
   "language": "python",
   "name": "python3"
  },
  "language_info": {
   "codemirror_mode": {
    "name": "ipython",
    "version": 3
   },
   "file_extension": ".py",
   "mimetype": "text/x-python",
   "name": "python",
   "nbconvert_exporter": "python",
   "pygments_lexer": "ipython3",
   "version": "3.12.7"
  }
 },
 "nbformat": 4,
 "nbformat_minor": 5
}
