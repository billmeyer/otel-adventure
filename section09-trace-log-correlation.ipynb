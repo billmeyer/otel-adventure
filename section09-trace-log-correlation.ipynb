{
 "cells": [
  {
   "cell_type": "markdown",
   "id": "5481109c-77e8-4f6b-a9c7-04260eb07aa9",
   "metadata": {},
   "source": [
    "# Correlating Traces and Logs using Python\n",
    "\n",
    "## Import OpenTelemetry Modules for Traces and Logs"
   ]
  },
  {
   "cell_type": "code",
   "execution_count": null,
   "id": "1ec279ac-32d8-4189-947c-f9d48601156f",
   "metadata": {},
   "outputs": [],
   "source": [
    "# Import Trace dependencies...\n",
    "from opentelemetry import baggage, trace\n",
    "from opentelemetry.sdk.resources import Resource\n",
    "from opentelemetry.sdk.trace import TracerProvider\n",
    "from opentelemetry.sdk.trace.export import (\n",
    "    ConsoleSpanExporter,\n",
    "    BatchSpanProcessor\n",
    ")\n",
    "from opentelemetry.exporter.otlp.proto.grpc.trace_exporter import OTLPSpanExporter\n",
    "from opentelemetry.trace import Status, StatusCode\n",
    "import logging, datetime, random, socket, sys, time, uuid\n",
    "\n",
    "# Import Log dependencies...\n",
    "from opentelemetry._logs import set_logger_provider\n",
    "from opentelemetry.exporter.otlp.proto.grpc._log_exporter import (\n",
    "    OTLPLogExporter,\n",
    ")\n",
    "from opentelemetry.sdk._logs.export import (\n",
    "    ConsoleLogExporter,\n",
    "    BatchLogRecordProcessor,\n",
    "    SimpleLogRecordProcessor\n",
    ")\n",
    "from opentelemetry.sdk._logs import LoggerProvider, LoggingHandler\n",
    "\n",
    "otlp_endpoint = \"localhost:4317\"\n",
    "print(otlp_endpoint)\n",
    "\n",
    "env = \"otel-adventure\"\n",
    "print(env)"
   ]
  },
  {
   "cell_type": "markdown",
   "id": "7a8467f2-8508-4073-865b-677532466832",
   "metadata": {},
   "source": [
    "## Create a **Tracer**\n",
    "\n",
    "See Section 4 for details."
   ]
  },
  {
   "cell_type": "code",
   "execution_count": null,
   "id": "16a509fd-e999-453b-b410-58efb31ed486",
   "metadata": {},
   "outputs": [],
   "source": [
    "tracerProvider = TracerProvider(resource=Resource.create({\n",
    "    \"service.name\": __name__,\n",
    "    \"service.instance.id\": str(uuid.uuid4()),\n",
    "    \"deployment.environment.name\": env,\n",
    "    \"host.name\": socket.gethostname(),\n",
    "}))\n",
    "print(tracerProvider.__dict__)\n",
    "\n",
    "tracerProvider.add_span_processor(BatchSpanProcessor(OTLPSpanExporter(endpoint=otlp_endpoint, insecure=True)))\n",
    "tracer = trace.get_tracer(\"python\", tracer_provider=tracerProvider)\n",
    "print(tracer.resource.__dict__)"
   ]
  },
  {
   "cell_type": "markdown",
   "id": "2093351c-fe76-47f4-a5c6-4ba9fff83cc5",
   "metadata": {},
   "source": [
    "## Create a **Logger**\n",
    "\n",
    "See Section 5 for details."
   ]
  },
  {
   "cell_type": "code",
   "execution_count": null,
   "id": "f42d3c07-bb44-443d-97ea-356ddd32d8dd",
   "metadata": {},
   "outputs": [],
   "source": [
    "loggerProvider = LoggerProvider(resource=Resource.create({\n",
    "    \"service.name\": __name__,\n",
    "    \"service.instance.id\": str(uuid.uuid4()),\n",
    "    \"deployment.environment.name\": \"otel-adventure\",\n",
    "    \"host.name\": socket.gethostname(),\n",
    "}))\n",
    "print(loggerProvider.__dict__)\n",
    "\n",
    "log_exporter = OTLPLogExporter(endpoint=otlp_endpoint, insecure=True)\n",
    "\n",
    "# FOR LAB EXERCISES: No batching of log events...\n",
    "loggerProvider.add_log_record_processor(SimpleLogRecordProcessor(log_exporter))\n",
    "\n",
    "logger = logging.getLogger()\n",
    "logger.handlers.clear()\n",
    "logger.addHandler(logging.StreamHandler(sys.stderr))\n",
    "\n",
    "# In Python, use setLevel() to enable DEBUG output for the logger instance\n",
    "logger.setLevel(logging.DEBUG)\n",
    "\n",
    "# Attach OTLP handler to root logger\n",
    "handler = LoggingHandler(logger_provider=loggerProvider)\n",
    "logger.addHandler(handler)"
   ]
  },
  {
   "cell_type": "markdown",
   "id": "6d44f23b-adcd-4885-9ff8-16de9789c01b",
   "metadata": {},
   "source": [
    "## Send trace spans and logs it to the collector\n"
   ]
  },
  {
   "cell_type": "code",
   "execution_count": null,
   "id": "9b0fcc14-a297-44af-9e3b-02be798cc61d",
   "metadata": {},
   "outputs": [],
   "source": [
    "def getTracer(service_name):\n",
    "    tracerProvider = TracerProvider(resource=Resource.create({\n",
    "        \"service.name\": service_name,\n",
    "        \"service.instance.id\": str(uuid.uuid4()),\n",
    "        \"deployment.environment.name\": env,\n",
    "        \"host.name\": socket.gethostname(),\n",
    "    }))\n",
    "    tracerProvider.add_span_processor(BatchSpanProcessor(OTLPSpanExporter(endpoint=otlp_endpoint, insecure=True)))\n",
    "    # print(tracerProvider._resource.__dict__)\n",
    "    return trace.get_tracer(\"python\", tracer_provider=tracerProvider)\n",
    "    \n",
    "def frontend():\n",
    "    frontend_tracer = getTracer(\"frontend\")\n",
    "    with frontend_tracer.start_as_current_span(\"frontend_process\") as frontend_span:\n",
    "        logging.info(\"Processing web transaction...\") \n",
    "        time.sleep(random.random())\n",
    "        handle_checkout()\n",
    "        time.sleep(random.random())\n",
    "    \n",
    "        frontend_span.set_status(Status(StatusCode.OK))\n",
    "        logging.info(\"Transaction complete.\")\n",
    "        trace_id = trace.format_trace_id(frontend_span.context.trace_id)\n",
    "        print(f\"Trace ID: {trace_id}\")\n",
    "        print(f\"View trace in Datadog: https://app.datadoghq.com/apm/traces?query=%40otel.trace_id%3A{trace_id}\")\n",
    "        print(f\"View flow map: https://app.datadoghq.com/apm/traces?query_a=%40otel.trace_id%3A{trace_id}&view=traces&traceQuery=a\")\n",
    "        return trace_id\n",
    "\n",
    "def handle_checkout():\n",
    "    checkout_tracer = getTracer(\"checkout\")\n",
    "    with checkout_tracer.start_as_current_span(\"checkout_process\") as checkout_span:\n",
    "        logging.info(\"Handling checkout...\")\n",
    "        checkout_span.set_attribute(\"order_num\", int(datetime.datetime.timestamp(datetime.datetime.now())*1000) % 100000)\n",
    "        time.sleep(random.random())\n",
    "        handle_payment()\n",
    "        time.sleep(random.random())\n",
    "        handle_shipping()\n",
    "        time.sleep(random.random())\n",
    "    \n",
    "        checkout_span.set_status(Status(StatusCode.OK))\n",
    "        logging.info(\"Checkout complete.\")\n",
    "        \n",
    "def handle_payment():\n",
    "    payment_tracer = getTracer(\"payment\")\n",
    "    with payment_tracer.start_as_current_span(\"payment_process\") as payment_span:\n",
    "        logging.info(\"Handling payment...\")\n",
    "        payment_span.set_attribute(\"payment_id\", str(uuid.uuid4()))\n",
    "        if (random.random() < 0.1):\n",
    "            payment_span.set_status(Status(StatusCode.ERROR))\n",
    "        else:\n",
    "            time.sleep(random.random())\n",
    "            payment_span.set_status(Status(StatusCode.OK))\n",
    "        logging.info(\"Payment complete.\")\n",
    "    \n",
    "def handle_shipping():\n",
    "    shipping_tracer = getTracer(\"shipping\")\n",
    "    with shipping_tracer.start_as_current_span(\"shipping_process\") as shipping_span:\n",
    "        logging.info(\"Handling shipping...\")\n",
    "        shipping_span.set_attribute(\"tracking_num\", str(uuid.uuid4()))\n",
    "        time.sleep(random.random())\n",
    "        logging.info(\"Shipping complete.\")\n",
    "\n",
    "trace_id = frontend()    "
   ]
  },
  {
   "cell_type": "markdown",
   "id": "dfbb919a-b675-403e-b7e5-1115407b7ddd",
   "metadata": {},
   "source": [
    "### Updated flowmap with each service represented separately\n",
    "<img src=\"imgs/log-correlation.png\" width=\"600\"/>"
   ]
  },
  {
   "cell_type": "markdown",
   "id": "20f71ebd-5e35-4a66-852a-04704f3593cb",
   "metadata": {},
   "source": [
    "#### End of Section"
   ]
  },
  {
   "cell_type": "code",
   "execution_count": null,
   "id": "18a34014-1305-438b-81cf-35567e7200a8",
   "metadata": {},
   "outputs": [],
   "source": []
  }
 ],
 "metadata": {
  "kernelspec": {
   "display_name": "Python 3 (ipykernel)",
   "language": "python",
   "name": "python3"
  },
  "language_info": {
   "codemirror_mode": {
    "name": "ipython",
    "version": 3
   },
   "file_extension": ".py",
   "mimetype": "text/x-python",
   "name": "python",
   "nbconvert_exporter": "python",
   "pygments_lexer": "ipython3",
   "version": "3.13.1"
  }
 },
 "nbformat": 4,
 "nbformat_minor": 5
}
