{
 "cells": [
  {
   "cell_type": "markdown",
   "id": "0ef47b0f-4ae6-40fc-9609-a0a1e251b0c4",
   "metadata": {},
   "source": [
    "# Import OpenTelemetry Modules for Traces"
   ]
  },
  {
   "cell_type": "code",
   "execution_count": null,
   "id": "1ec279ac-32d8-4189-947c-f9d48601156f",
   "metadata": {},
   "outputs": [],
   "source": [
    "from opentelemetry import baggage, trace\n",
    "from opentelemetry.sdk.resources import Resource\n",
    "from opentelemetry.sdk.trace import TracerProvider\n",
    "from opentelemetry.sdk.trace.export import (\n",
    "    ConsoleSpanExporter,\n",
    "    BatchSpanProcessor\n",
    ")\n",
    "from opentelemetry.exporter.otlp.proto.grpc.trace_exporter import OTLPSpanExporter\n",
    "from opentelemetry.trace import Status, StatusCode\n",
    "import socket"
   ]
  },
  {
   "cell_type": "markdown",
   "id": "7a8467f2-8508-4073-865b-677532466832",
   "metadata": {},
   "source": [
    "# Create a TraceProvider that we can send trace spans to"
   ]
  },
  {
   "cell_type": "code",
   "execution_count": null,
   "id": "f42d3c07-bb44-443d-97ea-356ddd32d8dd",
   "metadata": {},
   "outputs": [],
   "source": [
    "provider = TracerProvider(resource=Resource.create({\n",
    "    # \"service.name\": \"section01\",\n",
    "    \"service.name\": __name__,\n",
    "    # \"datadog.host.use_as_metadata\": True,\n",
    "    \"deployment.environment\": \"otel\",\n",
    "    \"host.name\": socket.gethostname(),\n",
    "}))\n",
    "print(provider.__dict__)"
   ]
  },
  {
   "cell_type": "markdown",
   "id": "61dd0b28-032d-4e7e-b81f-a2592eebdf8a",
   "metadata": {},
   "source": [
    "# Create a new trace span and send it to the collector"
   ]
  },
  {
   "cell_type": "code",
   "execution_count": null,
   "id": "0b97a58c-39a1-4c42-bef2-27c7fce0ef50",
   "metadata": {},
   "outputs": [],
   "source": [
    "# provider.add_span_processor(BatchSpanProcessor(ConsoleSpanExporter()))\n",
    "provider.add_span_processor(BatchSpanProcessor(OTLPSpanExporter(endpoint=\"localhost:4317\", insecure=True)))\n",
    "tracer = trace.get_tracer(\"python\", tracer_provider=provider)"
   ]
  },
  {
   "cell_type": "code",
   "execution_count": null,
   "id": "58c9a271-a6b8-4d81-8902-b20578413378",
   "metadata": {},
   "outputs": [],
   "source": [
    "with tracer.start_as_current_span(\"parent_span\") as parent_span:\n",
    "    ctx = baggage.set_baggage(\"foo\", \"bar\")\n",
    "\n",
    "    parent_span.set_status(Status(StatusCode.OK))\n",
    "    # do some work that 'parent' tracks\n",
    "    print(\"doing some work...\")\n",
    "\n",
    "    # Create a nested span to track nested work\n",
    "    with tracer.start_as_current_span(\"child\") as child:\n",
    "        # do some work that 'child' tracks\n",
    "        print(\"doing some nested work...\")\n",
    "        # the nested span is closed when it's out of scope\n",
    "\n",
    "trace_id = trace.format_trace_id(parent_span.context.trace_id)\n",
    "print(f\"Global context baggage: {baggage.get_all()}\")\n",
    "print(f\"Span context baggage: {baggage.get_all(context=ctx)}\")\n",
    "print(f\"Context: {parent_span.context}\")\n",
    "print(f\"Trace ID: {trace_id}\")\n",
    "print(f\"View trace in Datadog: https://app.datadoghq.com/apm/traces?query=%40otel.trace_id%3A{trace_id}\")"
   ]
  },
  {
   "cell_type": "code",
   "execution_count": null,
   "id": "fc0baceb-3786-4f92-95cf-e5b790dda2e7",
   "metadata": {},
   "outputs": [],
   "source": []
  }
 ],
 "metadata": {
  "kernelspec": {
   "display_name": "Python 3 (ipykernel)",
   "language": "python",
   "name": "python3"
  },
  "language_info": {
   "codemirror_mode": {
    "name": "ipython",
    "version": 3
   },
   "file_extension": ".py",
   "mimetype": "text/x-python",
   "name": "python",
   "nbconvert_exporter": "python",
   "pygments_lexer": "ipython3",
   "version": "3.12.7"
  }
 },
 "nbformat": 4,
 "nbformat_minor": 5
}
