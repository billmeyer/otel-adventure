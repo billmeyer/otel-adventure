{
 "cells": [
  {
   "cell_type": "markdown",
   "id": "5481109c-77e8-4f6b-a9c7-04260eb07aa9",
   "metadata": {},
   "source": [
    "# Sending Traces using Python\n",
    "\n",
    "## Import OpenTelemetry Modules for Traces"
   ]
  },
  {
   "cell_type": "code",
   "execution_count": null,
   "id": "1ec279ac-32d8-4189-947c-f9d48601156f",
   "metadata": {},
   "outputs": [],
   "source": [
    "from opentelemetry import baggage, trace\n",
    "from opentelemetry.sdk.resources import Resource\n",
    "from opentelemetry.sdk.trace import TracerProvider\n",
    "from opentelemetry.sdk.trace.export import (\n",
    "    ConsoleSpanExporter,\n",
    "    BatchSpanProcessor\n",
    ")\n",
    "from opentelemetry.exporter.otlp.proto.grpc.trace_exporter import OTLPSpanExporter\n",
    "from opentelemetry.trace import Status, StatusCode\n",
    "import datetime, random, socket, time, uuid"
   ]
  },
  {
   "cell_type": "markdown",
   "id": "7a8467f2-8508-4073-865b-677532466832",
   "metadata": {},
   "source": [
    "## Create a **TracerProvider** that we can send trace spans to\n",
    "\n",
    "Create a [TraceProvider](https://github.com/open-telemetry/opentelemetry-specification/blob/main/specification/trace/api.md#tracerprovider) with some **Resource**-level [Semantic Attributes](https://github.com/open-telemetry/semantic-conventions/blob/main/docs/resource/README.md) that describe our service:"
   ]
  },
  {
   "cell_type": "code",
   "execution_count": null,
   "id": "f42d3c07-bb44-443d-97ea-356ddd32d8dd",
   "metadata": {},
   "outputs": [],
   "source": [
    "provider = TracerProvider(resource=Resource.create({\n",
    "    \"service.name\": __name__,\n",
    "    \"service.instance.id\": str(uuid.uuid4()),\n",
    "    \"deployment.environment\": \"otel\",\n",
    "    \"host.name\": socket.gethostname(),\n",
    "    \"datadog.host.use_as_metadata\": True,\n",
    "}))\n",
    "print(provider._resource.__dict__)"
   ]
  },
  {
   "cell_type": "markdown",
   "id": "61dd0b28-032d-4e7e-b81f-a2592eebdf8a",
   "metadata": {},
   "source": [
    "## Get a **Tracer** from the **TracerProvider**\n",
    "\n",
    "Next we create a [BatchSpanProcessor](https://opentelemetry-python.readthedocs.io/en/latest/sdk/trace.export.html#opentelemetry.sdk.trace.export.BatchSpanProcessor) that uses an [OTLPSpanExporter](https://opentelemetry-python.readthedocs.io/en/latest/exporter/otlp/otlp.html#opentelemetry.exporter.otlp.proto.grpc.trace_exporter.OTLPSpanExporter) that is used to send the span to our OTEL Collector:"
   ]
  },
  {
   "cell_type": "code",
   "execution_count": null,
   "id": "0b97a58c-39a1-4c42-bef2-27c7fce0ef50",
   "metadata": {},
   "outputs": [],
   "source": [
    "provider.add_span_processor(BatchSpanProcessor(OTLPSpanExporter(endpoint=\"localhost:4317\", insecure=True)))\n",
    "tracer = trace.get_tracer(\"python\", tracer_provider=provider)"
   ]
  },
  {
   "cell_type": "markdown",
   "id": "eeafa189-ac39-4e97-a9a2-042c39013585",
   "metadata": {},
   "source": [
    "We could optionally add a [ConsoleSpanExporter](https://opentelemetry-python.readthedocs.io/en/latest/sdk/trace.export.html#opentelemetry.sdk.trace.export.ConsoleSpanExporter) to the provider that would output all spans from the collector to the console:\n",
    "\n",
    "```python\n",
    "provider.add_span_processor(BatchSpanProcessor(ConsoleSpanExporter()))\n",
    "```\n",
    "\n",
    "but we will omit this for this lab."
   ]
  },
  {
   "cell_type": "markdown",
   "id": "6d44f23b-adcd-4885-9ff8-16de9789c01b",
   "metadata": {},
   "source": [
    "## Create a new trace span and send it to the collector\n",
    "\n",
    "With the **Tracer**, we can finally start emitting spans. This simple example create a parent span and a child span simulating one microservice invoking another service:"
   ]
  },
  {
   "cell_type": "code",
   "execution_count": null,
   "id": "58c9a271-a6b8-4d81-8902-b20578413378",
   "metadata": {},
   "outputs": [],
   "source": [
    "def frontend():\n",
    "    with tracer.start_as_current_span(\"frontend\") as frontend_span:\n",
    "        print(\"Processing web transaction...\")\n",
    "        time.sleep(random.random())\n",
    "        handle_checkout()\n",
    "        time.sleep(random.random())\n",
    "    \n",
    "        frontend_span.set_status(Status(StatusCode.OK))\n",
    "        print(\"Transaction complete.\")\n",
    "        trace_id = trace.format_trace_id(frontend_span.context.trace_id)\n",
    "        print(f\"Trace ID: {trace_id}\")\n",
    "        print(f\"View trace in Datadog: https://app.datadoghq.com/apm/traces?query=%40otel.trace_id%3A{trace_id}\")\n",
    "\n",
    "def handle_checkout():\n",
    "    with tracer.start_as_current_span(\"checkout\") as checkout_span:\n",
    "        print(\"Handling checkout...\")\n",
    "        checkout_span.set_attribute(\"order_num\", int(datetime.datetime.timestamp(datetime.datetime.now())*1000) % 100000)\n",
    "        time.sleep(random.random())\n",
    "        handle_payment()\n",
    "        time.sleep(random.random())\n",
    "        handle_shipping()\n",
    "        time.sleep(random.random())\n",
    "    \n",
    "        checkout_span.set_status(Status(StatusCode.OK))\n",
    "        print(\"Checkout complete.\")\n",
    "        \n",
    "def handle_payment():\n",
    "    with tracer.start_as_current_span(\"payment\") as payment_span:\n",
    "        print(\"Handling payment...\")\n",
    "        payment_span.set_attribute(\"payment_id\", str(uuid.uuid4()))\n",
    "        if (random.random() < 0.1):\n",
    "            payment_span.set_status(Status(StatusCode.ERROR))\n",
    "        else:\n",
    "            time.sleep(random.random())\n",
    "            payment_span.set_status(Status(StatusCode.OK))\n",
    "        print(\"Payment complete.\")\n",
    "            \n",
    "def handle_shipping():\n",
    "    with tracer.start_as_current_span(\"shipping\") as shipping_span:\n",
    "        print(\"Handling shipping...\")\n",
    "        shipping_span.set_attribute(\"tracking_num\", str(uuid.uuid4()))\n",
    "        time.sleep(random.random())\n",
    "        print(\"Shipping complete.\")\n",
    "\n",
    "frontend()    "
   ]
  },
  {
   "cell_type": "markdown",
   "id": "6bc30e51-408b-42a7-bcdc-94fd5a317f01",
   "metadata": {},
   "source": [
    "<div class=\"alert alert-block alert-warning\"><b>NOTE:</b> What's missing from this trace?</div>\n",
    "\n",
    "<img src=\"imgs/flowmap-single.png\" width=\"600\"/>"
   ]
  },
  {
   "cell_type": "markdown",
   "id": "7c766628-6756-495a-a0cb-8301b68d62d0",
   "metadata": {},
   "source": [
    "## Refactor to make it multi-service\n",
    "\n",
    "We've refactored the original example to get a new **TraceProvider** instance *with a unique service name* for each of our handlers. This simulates each span being emitted by a separate microservice."
   ]
  },
  {
   "cell_type": "code",
   "execution_count": null,
   "id": "9b0fcc14-a297-44af-9e3b-02be798cc61d",
   "metadata": {},
   "outputs": [],
   "source": [
    "def getTracer(service_name):\n",
    "    provider = TracerProvider(resource=Resource.create({\n",
    "        \"service.name\": service_name,\n",
    "        \"service.instance.id\": str(uuid.uuid4()),\n",
    "        \"deployment.environment\": \"otel\",\n",
    "        \"host.name\": socket.gethostname(),\n",
    "        \"datadog.host.use_as_metadata\": True,\n",
    "    }))\n",
    "    provider.add_span_processor(BatchSpanProcessor(OTLPSpanExporter(endpoint=\"localhost:4317\", insecure=True)))\n",
    "    return trace.get_tracer(\"python\", tracer_provider=provider)\n",
    "    \n",
    "def frontend():\n",
    "    frontend_tracer = getTracer(\"frontend\")\n",
    "    with frontend_tracer.start_as_current_span(\"frontend\") as frontend_span:\n",
    "        print(\"Processing web transaction...\")\n",
    "        time.sleep(random.random())\n",
    "        handle_checkout()\n",
    "        time.sleep(random.random())\n",
    "    \n",
    "        frontend_span.set_status(Status(StatusCode.OK))\n",
    "        print(\"Transaction complete.\")\n",
    "        trace_id = trace.format_trace_id(frontend_span.context.trace_id)\n",
    "        print(f\"Trace ID: {trace_id}\")\n",
    "        print(f\"View trace in Datadog: https://app.datadoghq.com/apm/traces?query=%40otel.trace_id%3A{trace_id}\")\n",
    "\n",
    "def handle_checkout():\n",
    "    checkout_tracer = getTracer(\"checkout\")\n",
    "    with checkout_tracer.start_as_current_span(\"checkout\") as checkout_span:\n",
    "        print(\"Handling checkout...\")\n",
    "        checkout_span.set_attribute(\"order_num\", int(datetime.datetime.timestamp(datetime.datetime.now())*1000) % 100000)\n",
    "        time.sleep(random.random())\n",
    "        handle_payment()\n",
    "        time.sleep(random.random())\n",
    "        handle_shipping()\n",
    "        time.sleep(random.random())\n",
    "    \n",
    "        checkout_span.set_status(Status(StatusCode.OK))\n",
    "        print(\"Checkout complete.\")\n",
    "        \n",
    "def handle_payment():\n",
    "    payment_tracer = getTracer(\"payment\")\n",
    "    with payment_tracer.start_as_current_span(\"payment\") as payment_span:\n",
    "        print(\"Handling payment...\")\n",
    "        payment_span.set_attribute(\"payment_id\", str(uuid.uuid4()))\n",
    "        if (random.random() < 0.1):\n",
    "            payment_span.set_status(Status(StatusCode.ERROR))\n",
    "        else:\n",
    "            time.sleep(random.random())\n",
    "            payment_span.set_status(Status(StatusCode.OK))\n",
    "        print(\"Payment complete.\")\n",
    "    \n",
    "def handle_shipping():\n",
    "    shipping_tracer = getTracer(\"shipping\")\n",
    "    with shipping_tracer.start_as_current_span(\"shipping\") as shipping_span:\n",
    "        print(\"Handling shipping...\")\n",
    "        shipping_span.set_attribute(\"tracking_num\", str(uuid.uuid4()))\n",
    "        time.sleep(random.random())\n",
    "        print(\"Shipping complete.\")\n",
    "\n",
    "frontend()    "
   ]
  },
  {
   "cell_type": "markdown",
   "id": "dfbb919a-b675-403e-b7e5-1115407b7ddd",
   "metadata": {},
   "source": [
    "### Updated flowmap with each service represented separately\n",
    "<img src=\"imgs/flowmap-multi.png\" width=\"600\"/>"
   ]
  },
  {
   "cell_type": "markdown",
   "id": "20f71ebd-5e35-4a66-852a-04704f3593cb",
   "metadata": {},
   "source": [
    "#### End of Section"
   ]
  },
  {
   "cell_type": "code",
   "execution_count": null,
   "id": "18a34014-1305-438b-81cf-35567e7200a8",
   "metadata": {},
   "outputs": [],
   "source": []
  }
 ],
 "metadata": {
  "kernelspec": {
   "display_name": "Python 3 (ipykernel)",
   "language": "python",
   "name": "python3"
  },
  "language_info": {
   "codemirror_mode": {
    "name": "ipython",
    "version": 3
   },
   "file_extension": ".py",
   "mimetype": "text/x-python",
   "name": "python",
   "nbconvert_exporter": "python",
   "pygments_lexer": "ipython3",
   "version": "3.12.5"
  }
 },
 "nbformat": 4,
 "nbformat_minor": 5
}
