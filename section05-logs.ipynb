{
 "cells": [
  {
   "cell_type": "markdown",
   "id": "0ef47b0f-4ae6-40fc-9609-a0a1e251b0c4",
   "metadata": {},
   "source": [
    "# Sending Logs using Python\n",
    "\n",
    "## Import OpenTelemetry Modules for Logs"
   ]
  },
  {
   "cell_type": "code",
   "execution_count": null,
   "id": "1ec279ac-32d8-4189-947c-f9d48601156f",
   "metadata": {},
   "outputs": [],
   "source": [
    "from opentelemetry.sdk.resources import Resource\n",
    "from opentelemetry._logs import set_logger_provider\n",
    "from opentelemetry.exporter.otlp.proto.grpc._log_exporter import (\n",
    "    OTLPLogExporter,\n",
    ")\n",
    "from opentelemetry.sdk._logs.export import (\n",
    "    ConsoleLogExporter,\n",
    "    BatchLogRecordProcessor,\n",
    "    SimpleLogRecordProcessor\n",
    ")\n",
    "from opentelemetry.sdk._logs import LoggerProvider, LoggingHandler\n",
    "import logging, socket, sys, uuid;\n"
   ]
  },
  {
   "cell_type": "markdown",
   "id": "7a8467f2-8508-4073-865b-677532466832",
   "metadata": {},
   "source": [
    "## Create a **LoggerProvider** that we can send logs to\n",
    "\n",
    "Create a [LoggerProvider](https://github.com/open-telemetry/opentelemetry-specification/blob/main/specification/logs/api.md#loggerprovider) with some **Resource**-level [Semantic Attributes](https://github.com/open-telemetry/semantic-conventions/blob/main/docs/resource/README.md) that describe our service:"
   ]
  },
  {
   "cell_type": "code",
   "execution_count": null,
   "id": "f42d3c07-bb44-443d-97ea-356ddd32d8dd",
   "metadata": {},
   "outputs": [],
   "source": [
    "provider = LoggerProvider(\n",
    "    resource=Resource.create(\n",
    "        {\n",
    "            \"service.name\": __name__,\n",
    "            \"service.instance.id\": str(uuid.uuid4()),\n",
    "            \"deployment.environment\": \"otel\",\n",
    "            \"host.name\": socket.gethostname(),\n",
    "            \"datadog.host.use_as_metadata\": True,            \n",
    "        }\n",
    "    ),\n",
    ")\n",
    "print(provider._resource.__dict__)\n",
    "# set_logger_provider(provider)"
   ]
  },
  {
   "cell_type": "markdown",
   "id": "044fc117-033a-4b83-b0c0-c7836dd36a0b",
   "metadata": {},
   "source": [
    "## Get a **Logger** from the **LoggerProvider**\n",
    "\n",
    "Next we create a [SimpleLogRecordProcessor](https://github.com/open-telemetry/opentelemetry-python/blob/main/opentelemetry-sdk/src/opentelemetry/sdk/_logs/_internal/export/__init__.py#L113) that uses an [OTLPLogExporter](https://opentelemetry-python.readthedocs.io/en/latest/exporter/otlp/otlp.html#opentelemetry.exporter.otlp.proto.grpc._log_exporter.OTLPLogExporter) that is used to send the log event to our OTEL Collector.\n",
    "\n",
    "> NOTE: Unlike traces that are comprised of multiple spans that can be sent independently and batched together with a **BatchSpanProcessor**, log events are single records and we can use the **SimpleLogRecordProcessor** to speed up the sending of the log record to Datadog. This sacrifices performance for quick throughput and is **not** recommended for production code."
   ]
  },
  {
   "cell_type": "code",
   "execution_count": null,
   "id": "8287cf2c-c6f3-4c35-8d71-07cb5d32a568",
   "metadata": {},
   "outputs": [],
   "source": [
    "log_exporter = OTLPLogExporter(endpoint=\"localhost:4317\", insecure=True)\n",
    "\n",
    "# No batching of log events...\n",
    "provider.add_log_record_processor(SimpleLogRecordProcessor(log_exporter))\n",
    "# provider.add_log_record_processor(SimpleLogRecordProcessor(ConsoleLogExporter()))\n",
    "\n",
    "# Batching log events within the application before sending the batch to the collector...\n",
    "# provider.add_log_record_processor(BatchLogRecordProcessor(log_exporter))\n",
    "# provider.add_log_record_processor(BatchLogRecordProcessor(ConsoleLogExporter()))"
   ]
  },
  {
   "cell_type": "markdown",
   "id": "74d04ec8-bd02-4c16-9aaf-90ca0f788f54",
   "metadata": {},
   "source": [
    "## Attach an OTLP handler to the root logger"
   ]
  },
  {
   "cell_type": "code",
   "execution_count": null,
   "id": "ca4b61d7-97e3-4b93-aa94-eb70026d9f83",
   "metadata": {},
   "outputs": [],
   "source": [
    "logger = logging.getLogger()\n",
    "logger.handlers.clear()\n",
    "logger.addHandler(logging.StreamHandler(sys.stderr))\n",
    "\n",
    "# Attach OTLP handler to root logger\n",
    "handler = LoggingHandler(logger_provider=provider)\n",
    "logger.addHandler(handler)"
   ]
  },
  {
   "cell_type": "markdown",
   "id": "61dd0b28-032d-4e7e-b81f-a2592eebdf8a",
   "metadata": {},
   "source": [
    "## Create log events and send them to the collector"
   ]
  },
  {
   "cell_type": "markdown",
   "id": "4e5f4738-1216-4e93-8d05-fe8bec43ff2f",
   "metadata": {},
   "source": [
    "### Open Log Live Tail in Datadog\n",
    "\n",
    "Open the live tail here: [Live Tail](https://app.datadoghq.com/logs/livetail?query=%40service.name%3A__main__)\n"
   ]
  },
  {
   "cell_type": "markdown",
   "id": "71d7560a-78f3-403f-821b-36f5b00ee136",
   "metadata": {},
   "source": [
    "## Send the Log Events"
   ]
  },
  {
   "cell_type": "code",
   "execution_count": null,
   "id": "bee611d3-925a-468c-b5bc-0eaccc0066f9",
   "metadata": {},
   "outputs": [],
   "source": [
    "id=str(uuid.uuid4())\n",
    "logging.debug(f\"This is a DEBUG message, id:{id}\")\n",
    "logging.info(f\"This is an INFO message, id:{id}\")\n",
    "logging.warning(f\"This is a WARNING message, id:{id}\")\n",
    "logging.error(f\"This is an ERROR message, id:{id}\")"
   ]
  },
  {
   "cell_type": "markdown",
   "id": "e0581ff7-42d1-4097-bd1d-a187c8ed069e",
   "metadata": {},
   "source": [
    "Notice the Collector emits a line indicating that it's processed a Log event:\n",
    "\n",
    "```\n",
    "2024-11-05T14:57:58.093-0600    info    Logs    {\"kind\": \"exporter\", \"data_type\": \"logs\", \"name\": \"debug/basic\", \"resource logs\": 2, \"log records\": 2}\n",
    "```\n",
    "\n",
    "and observe the Live Tail output in Datadog:\n",
    "\n",
    "<img src=\"imgs/livetail-warnerr.png\" width=\"600px\"/>\n",
    "\n",
    "<div class=\"alert alert-block alert-warning\"><b>NOTE:</b> What's missing?</div>"
   ]
  },
  {
   "cell_type": "markdown",
   "id": "2d60b46b-8ac3-4b33-ad3d-7bde7b628eb2",
   "metadata": {},
   "source": [
    "## Send all log levels"
   ]
  },
  {
   "cell_type": "code",
   "execution_count": null,
   "id": "022dae8a-984a-467c-b2eb-d001a5d29184",
   "metadata": {},
   "outputs": [],
   "source": [
    "logger = logging.getLogger()\n",
    "logger.setLevel(logging.DEBUG)\n",
    "\n",
    "id=str(uuid.uuid4())\n",
    "logger.debug(f\"This is a DEBUG message, id:{id}\")\n",
    "logger.info(f\"This is an INFO message, id:{id}\")\n",
    "logger.warning(f\"This is a WARNING message, id:{id}\")\n",
    "logger.error(f\"This is an ERROR message, id:{id}\")"
   ]
  },
  {
   "cell_type": "markdown",
   "id": "555c1914-8841-4b50-b4f1-9e715e14b211",
   "metadata": {},
   "source": [
    "## Shutdown the logger when complete"
   ]
  },
  {
   "cell_type": "code",
   "execution_count": null,
   "id": "9b7ddfcc-049c-4b90-8266-837f65e0d797",
   "metadata": {},
   "outputs": [],
   "source": [
    "provider.shutdown()"
   ]
  },
  {
   "cell_type": "markdown",
   "id": "b5426ec2-08e9-4f55-b98b-7e31f874ffec",
   "metadata": {},
   "source": [
    "#### End of Section"
   ]
  },
  {
   "cell_type": "code",
   "execution_count": null,
   "id": "dfbf800e-dc0b-4c56-b07f-fe3e5b525cba",
   "metadata": {},
   "outputs": [],
   "source": []
  }
 ],
 "metadata": {
  "kernelspec": {
   "display_name": "Python 3 (ipykernel)",
   "language": "python",
   "name": "python3"
  },
  "language_info": {
   "codemirror_mode": {
    "name": "ipython",
    "version": 3
   },
   "file_extension": ".py",
   "mimetype": "text/x-python",
   "name": "python",
   "nbconvert_exporter": "python",
   "pygments_lexer": "ipython3",
   "version": "3.12.5"
  }
 },
 "nbformat": 4,
 "nbformat_minor": 5
}
