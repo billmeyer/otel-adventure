{
 "cells": [
  {
   "cell_type": "markdown",
   "id": "0ef47b0f-4ae6-40fc-9609-a0a1e251b0c4",
   "metadata": {},
   "source": [
    "# Import OpenTelemetry Modules for Logs"
   ]
  },
  {
   "cell_type": "code",
   "execution_count": null,
   "id": "1ec279ac-32d8-4189-947c-f9d48601156f",
   "metadata": {},
   "outputs": [],
   "source": [
    "import logging\n",
    "import socket\n",
    "\n",
    "from opentelemetry.sdk.resources import Resource\n",
    "from opentelemetry._logs import set_logger_provider\n",
    "from opentelemetry.exporter.otlp.proto.grpc._log_exporter import (\n",
    "    OTLPLogExporter,\n",
    ")\n",
    "from opentelemetry.sdk._logs.export import (\n",
    "    ConsoleLogExporter,\n",
    "    BatchLogRecordProcessor,\n",
    "    SimpleLogRecordProcessor\n",
    ")\n",
    "from opentelemetry.sdk._logs import LoggerProvider, LoggingHandler\n"
   ]
  },
  {
   "cell_type": "markdown",
   "id": "7a8467f2-8508-4073-865b-677532466832",
   "metadata": {},
   "source": [
    "# Create a LoggerProvider that we can send logs to"
   ]
  },
  {
   "cell_type": "code",
   "execution_count": null,
   "id": "f42d3c07-bb44-443d-97ea-356ddd32d8dd",
   "metadata": {},
   "outputs": [],
   "source": [
    "logger_provider = LoggerProvider(\n",
    "    resource=Resource.create(\n",
    "        {\n",
    "            \"service.name\": \"section02\",\n",
    "            \"deployment.environment\": \"otel\",\n",
    "            \"host.name\": socket.gethostname(),\n",
    "        }\n",
    "    ),\n",
    ")\n",
    "set_logger_provider(logger_provider)"
   ]
  },
  {
   "cell_type": "markdown",
   "id": "61dd0b28-032d-4e7e-b81f-a2592eebdf8a",
   "metadata": {},
   "source": [
    "# Create log events and send them to the collector"
   ]
  },
  {
   "cell_type": "code",
   "execution_count": null,
   "id": "5701fa9e-b244-44f0-8951-72a99f0bdb85",
   "metadata": {},
   "outputs": [],
   "source": [
    "logging.basicConfig(level=logging.NOTSET)\n",
    "\n",
    "log_exporter = OTLPLogExporter(endpoint=\"localhost:4317\", insecure=True)\n",
    "logger_provider.add_log_record_processor(SimpleLogRecordProcessor(log_exporter))\n",
    "# logger_provider.add_log_record_processor(BatchLogRecordProcessor(log_exporter))\n",
    "# logger_provider.add_log_record_processor(BatchLogRecordProcessor(ConsoleLogExporter()))\n",
    "logger_provider.add_log_record_processor(SimpleLogRecordProcessor(ConsoleLogExporter()))\n",
    "\n",
    "handler = LoggingHandler(level=logging.DEBUG, logger_provider=logger_provider)\n",
    "# handler = LoggingHandler(level=logging.INFO, logger_provider=logger_provider)\n",
    "\n",
    "# Attach OTLP handler to root logger\n",
    "logging.getLogger().addHandler(handler)\n",
    "\n",
    "logger1 = logging.getLogger(__name__)"
   ]
  },
  {
   "cell_type": "code",
   "execution_count": null,
   "id": "bee611d3-925a-468c-b5bc-0eaccc0066f9",
   "metadata": {},
   "outputs": [],
   "source": [
    "logger1.debug(\"This is a debug message.\")\n",
    "logger1.info(\"This is an info message.\")\n",
    "# logger1.warning(\"This is a warning message.\")\n",
    "# logger1.error(\"This is an error message.\")"
   ]
  },
  {
   "cell_type": "markdown",
   "id": "4e5f4738-1216-4e93-8d05-fe8bec43ff2f",
   "metadata": {},
   "source": [
    "### View output\n",
    "\n",
    "View the results in Datadog: https://app.datadoghq.com/logs/livetail?query=%40service.name%3Asection02\n"
   ]
  },
  {
   "cell_type": "markdown",
   "id": "555c1914-8841-4b50-b4f1-9e715e14b211",
   "metadata": {},
   "source": [
    "# Shutdown the logger when complete"
   ]
  },
  {
   "cell_type": "code",
   "execution_count": null,
   "id": "9b7ddfcc-049c-4b90-8266-837f65e0d797",
   "metadata": {},
   "outputs": [],
   "source": [
    "logger_provider.shutdown()"
   ]
  },
  {
   "cell_type": "code",
   "execution_count": null,
   "id": "41f06e91-8c50-4caf-b276-2df2eadf2a52",
   "metadata": {},
   "outputs": [],
   "source": []
  }
 ],
 "metadata": {
  "kernelspec": {
   "display_name": "Python 3 (ipykernel)",
   "language": "python",
   "name": "python3"
  },
  "language_info": {
   "codemirror_mode": {
    "name": "ipython",
    "version": 3
   },
   "file_extension": ".py",
   "mimetype": "text/x-python",
   "name": "python",
   "nbconvert_exporter": "python",
   "pygments_lexer": "ipython3",
   "version": "3.12.7"
  }
 },
 "nbformat": 4,
 "nbformat_minor": 5
}
