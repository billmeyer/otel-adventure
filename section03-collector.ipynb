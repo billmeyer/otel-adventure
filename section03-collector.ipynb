{
 "cells": [
  {
   "cell_type": "markdown",
   "id": "71ff5fe4-4e5f-4c64-bd9c-cdae63e10b80",
   "metadata": {},
   "source": [
    "# OpenTelemetry Collector\n",
    "\n",
    "## Review Configuration\n",
    "\n",
    "Open `config.yaml` and review the configuration.\n",
    "\n",
    "OTEL Configurations are organized into sections. The primary sections are as follows:\n",
    "\n",
    "* `receivers` - collect telemetry from one or more sources.\n",
    "* `processors` - take the data collected by receivers and modify or transform it before sending it to the exporters.\n",
    "* `exporters` - send data to one or more backends or destinations.\n",
    "* `connectors` - consumes data as an exporter at the end of one pipeline and emits data as a receiver at the beginning of another pipeline.\n",
    "* `extensions` - optional components that expand the capabilities of the Collector to accomplish tasks not directly involved with processing telemetry data. (e.g., health monitoring)\n",
    "* `services` - configure what components are enabled in the Collector based on the configuration found in the receivers, processors, exporters, and extensions sections. If a component is configured, but not defined within the service section, then it’s not enabled.\n",
    "\n"
   ]
  },
  {
   "cell_type": "markdown",
   "id": "f0d374c2-7253-4166-ad59-28d7af270410",
   "metadata": {},
   "source": [
    "## Start the Collector\n",
    "\n",
    "Inside a terminal window, execute:\n",
    "\n",
    "```bash\n",
    "./otelcol-contrib --config config.yaml\n",
    "```\n",
    "\n",
    "<div class=\"alert alert-warning\">macOS Users</div>\n",
    "\n",
    "> If you receive this warning from Apple:\n",
    ">\n",
    ">    <img src=\"imgs/apple-malicious-warning.png\" width=\"300\" alt=\"Malicious Software\"/>\n",
    ">\n",
    ">    Then you'll need to grant permission for the Collector to run. Do this by opening **System Settings** (cmd-space, type `sys`, hit **enter**). Under **Privacy & Security**, you'll see the **otelcol-contrib** executable was blocked:\n",
    ">\n",
    ">    <img src=\"imgs/blocked.png\" width=\"300\"/>\n",
    ">\n",
    ">    Enable it by clicking on the **Allow Anyway** button, authenticate with your password. Try launching the collector again. A new message should appear:\n",
    ">\n",
    ">    <img src=\"imgs/apple-malicious-warning-open.png\" width=\"300\" alt=\"Malicious Software\"/>\n",
    ">\n",
    ">    This time, click **Open** to open the app. You should no longer be prompted to run future instances of the collector.\n",
    "    "
   ]
  },
  {
   "cell_type": "markdown",
   "id": "846f6e1b-f86c-4e9d-9aa7-2fd166239b09",
   "metadata": {},
   "source": [
    "The collector may take up to 30 seconds to start. Watch the output until the **Everyting is ready** message appears:\n",
    "\n",
    "```\n",
    "2024-11-04T18:22:21.556-0600    info    service@v0.112.0/service.go:230 Everything is ready. Begin running and processing data.\n",
    "```\n",
    "\n"
   ]
  },
  {
   "cell_type": "code",
   "execution_count": null,
   "id": "30897cb5-7034-4d3a-a39f-4a2497fbf2f2",
   "metadata": {},
   "outputs": [],
   "source": []
  }
 ],
 "metadata": {
  "kernelspec": {
   "display_name": "Python 3 (ipykernel)",
   "language": "python",
   "name": "python3"
  },
  "language_info": {
   "codemirror_mode": {
    "name": "ipython",
    "version": 3
   },
   "file_extension": ".py",
   "mimetype": "text/x-python",
   "name": "python",
   "nbconvert_exporter": "python",
   "pygments_lexer": "ipython3",
   "version": "3.12.7"
  }
 },
 "nbformat": 4,
 "nbformat_minor": 5
}
