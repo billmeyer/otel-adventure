{
 "cells": [
  {
   "cell_type": "markdown",
   "id": "f097e395-39e8-435f-a92d-f2ff9e81b259",
   "metadata": {},
   "source": [
    "# OpenTelemetry Collector\n",
    "\n",
    "## Open a Terminal window in Jupyter Lab\n",
    "\n",
    "1. Navigate to **File** &rarr; **New** &rarr; **Terminal**.\n",
    "2. Drag the Terminal tab and pin it to the right pane of the workspace.\n",
    "   \n",
    "## Download the OpenTelemetry Contrib Collector\n",
    "\n",
    "> NOTE: Additional platforms and versions can be download from https://github.com/open-telemetry/opentelemetry-collector-releases/releases."
   ]
  },
  {
   "cell_type": "markdown",
   "id": "ce26191a-4364-4cfc-b72d-46a9be60a566",
   "metadata": {},
   "source": [
    "### macOS Users"
   ]
  },
  {
   "cell_type": "markdown",
   "id": "4e81044f-646f-48a3-a829-5babd0f1f839",
   "metadata": {},
   "source": [
    "#### Download the binary for macOS Silicon:"
   ]
  },
  {
   "cell_type": "code",
   "execution_count": null,
   "id": "e1dda29a-cc7b-4a04-bb7c-6630417b9bab",
   "metadata": {},
   "outputs": [],
   "source": [
    "!curl -LO https://github.com/open-telemetry/opentelemetry-collector-releases/releases/download/v0.112.0/otelcol-contrib_0.112.0_darwin_arm64.tar.gz"
   ]
  },
  {
   "cell_type": "markdown",
   "id": "faf881d0-f678-40d0-b28c-932ed82d4c1a",
   "metadata": {},
   "source": [
    "#### Confirm the file downloaded successfully:"
   ]
  },
  {
   "cell_type": "code",
   "execution_count": null,
   "id": "8b3da1c8-e2bd-432c-9a7e-caaf62e2dc3d",
   "metadata": {},
   "outputs": [],
   "source": [
    "!ls -l otelcol-contrib_0.112.0_darwin_arm64.tar.gz"
   ]
  },
  {
   "cell_type": "markdown",
   "id": "7ee2d63a",
   "metadata": {},
   "source": [
    "#### Extract the binary:"
   ]
  },
  {
   "cell_type": "code",
   "execution_count": null,
   "id": "b47e655c",
   "metadata": {},
   "outputs": [],
   "source": [
    "!tar zvxf otelcol-contrib_0.112.0_darwin_arm64.tar.gz otelcol-contrib"
   ]
  },
  {
   "cell_type": "markdown",
   "id": "b91638fe-4279-4416-bf7d-cf39f5cb78a1",
   "metadata": {},
   "source": [
    "#### Confirm the file is extracted and has execute permissions:"
   ]
  },
  {
   "cell_type": "code",
   "execution_count": null,
   "id": "9c4e0828-ffd4-4c19-ba04-665120165da0",
   "metadata": {},
   "outputs": [],
   "source": [
    "!ls -l otelcol-contrib"
   ]
  },
  {
   "cell_type": "markdown",
   "id": "ae914145-a98e-47a7-a978-52bea4c1d1d1",
   "metadata": {},
   "source": [
    "### Linux Users"
   ]
  },
  {
   "cell_type": "markdown",
   "id": "c31d64b3-5608-4a4d-9623-1a6b7be4261a",
   "metadata": {},
   "source": [
    "#### Download the binary for Linux AMD64:"
   ]
  },
  {
   "cell_type": "code",
   "execution_count": null,
   "id": "0e21e39d-a153-4599-9ffc-b1547fb0f2fc",
   "metadata": {},
   "outputs": [],
   "source": [
    "!curl -LO https://github.com/open-telemetry/opentelemetry-collector-releases/releases/download/v0.112.0/otelcol-contrib_0.112.0_linux_amd64.tar.gz"
   ]
  },
  {
   "cell_type": "markdown",
   "id": "eb7f56c7-2649-48ad-a186-16c082fcfa4f",
   "metadata": {},
   "source": [
    "#### Confirm the file downloaded successfully:"
   ]
  },
  {
   "cell_type": "code",
   "execution_count": null,
   "id": "3801e18e-42fd-491a-b8d3-9ce63bcba7c1",
   "metadata": {},
   "outputs": [],
   "source": [
    "!ls -l otelcol-contrib_0.112.0_linux_amd64.tar.gz"
   ]
  },
  {
   "cell_type": "markdown",
   "id": "f4807e82",
   "metadata": {},
   "source": [
    "#### Extract the binary:"
   ]
  },
  {
   "cell_type": "code",
   "execution_count": null,
   "id": "8247e2ff",
   "metadata": {},
   "outputs": [],
   "source": [
    "!tar zvxf otelcol-contrib_0.112.0_linux_amd64.tar.gz otelcol-contrib"
   ]
  },
  {
   "cell_type": "markdown",
   "id": "c419cf01-cf82-4276-affe-6d21828643c4",
   "metadata": {},
   "source": [
    "#### Confirm the file is extracted and has execute permissions:"
   ]
  },
  {
   "cell_type": "code",
   "execution_count": null,
   "id": "ffb469f8-c9ef-43aa-8e6b-707e81dba7f6",
   "metadata": {},
   "outputs": [],
   "source": [
    "!ls -l otelcol-contrib"
   ]
  },
  {
   "cell_type": "markdown",
   "id": "b53e0c49",
   "metadata": {
    "jp-MarkdownHeadingCollapsed": true
   },
   "source": [
    "## Review Configuration\n",
    "\n",
    "### Open `config.yaml` and review the configuration.\n",
    "\n",
    "OTEL Configurations are organized into sections. The primary sections are as follows:\n",
    "\n",
    "|Section|Description|Contributions|\n",
    "|---|---|---|\n",
    "|`receivers`|Collect telemetry from one or more sources.|https://github.com/open-telemetry/opentelemetry-collector-contrib/tree/main/receiver|\n",
    "|`processors`|Take the data collected by receivers and modify or transform it before sending it to the exporters.|https://github.com/open-telemetry/opentelemetry-collector-contrib/tree/main/processor\n",
    "|`exporters`|Send data to one or more backends or destinations.|https://github.com/open-telemetry/opentelemetry-collector-contrib/tree/main/exporter\n",
    "|`connectors`|Consumes data as an exporter at the end of one pipeline and emits data as a receiver at the beginning of another pipeline.|https://github.com/open-telemetry/opentelemetry-collector-contrib/tree/main/connector\n",
    "|`extensions`|Optional components that expand the capabilities of the Collector to accomplish tasks not directly involved with processing telemetry data. (e.g., health monitoring).|https://github.com/open-telemetry/opentelemetry-collector-contrib/tree/main/extension\n",
    "|`services`|Configure what components are enabled in the Collector based on the configuration found in the receivers, processors, exporters, and extensions sections. If a component is configured, but not defined within the service section, then it’s not enabled.|N/A|"
   ]
  },
  {
   "cell_type": "markdown",
   "id": "f0d374c2-7253-4166-ad59-28d7af270410",
   "metadata": {},
   "source": [
    "## Start the Collector\n",
    "\n",
    "Inside the terminal window, execute:\n",
    "\n",
    "```bash\n",
    "source .env\n",
    "./otelcol-contrib --config config.yaml\n",
    "```\n",
    "\n",
    "> NOTE: `source .env` only needs to be run once for this terminal.\n",
    "\n",
    "<div class=\"alert alert-warning\">macOS Users</div>\n",
    "\n",
    "> If you receive this warning from Apple:\n",
    ">\n",
    ">    <img src=\"imgs/apple-malicious-warning.png\" width=\"300\" alt=\"Malicious Software\"/>\n",
    ">\n",
    ">    Then you'll need to grant permission for the Collector to run. Do this by opening **System Settings** (cmd-space, type `sys`, hit **enter**). Under **Privacy & Security**, you'll see the **otelcol-contrib** executable was blocked:\n",
    ">\n",
    ">    <img src=\"imgs/blocked.png\" width=\"300\"/>\n",
    ">\n",
    ">    Enable it by clicking on the **Allow Anyway** button, authenticate with your password. Try launching the collector again. A new message should appear:\n",
    ">\n",
    ">    <img src=\"imgs/apple-malicious-warning-open.png\" width=\"300\" alt=\"Malicious Software\"/>\n",
    ">\n",
    ">    This time, click **Open** to open the app. You should no longer be prompted to run future instances of the collector.\n",
    "    "
   ]
  },
  {
   "cell_type": "markdown",
   "id": "846f6e1b-f86c-4e9d-9aa7-2fd166239b09",
   "metadata": {},
   "source": [
    "## **WAIT** for the Collector to be ready\n",
    "\n",
    "The collector may take up to 30 seconds to start. Watch the output until the **Everyting is ready** message appears:\n",
    "\n",
    "```\n",
    "2024-11-04T18:22:21.556-0600    info    service@v0.112.0/service.go:230 Everything is ready. Begin running and processing data.\n",
    "```\n",
    "\n"
   ]
  },
  {
   "cell_type": "markdown",
   "id": "08196857-bcdf-4435-ac0d-5146a8d28aea",
   "metadata": {},
   "source": [
    "#### End of Section"
   ]
  },
  {
   "cell_type": "code",
   "execution_count": null,
   "id": "1f4a7735-138f-4142-805f-a3cdcb6189c3",
   "metadata": {},
   "outputs": [],
   "source": []
  }
 ],
 "metadata": {
  "kernelspec": {
   "display_name": "Python 3 (ipykernel)",
   "language": "python",
   "name": "python3"
  },
  "language_info": {
   "codemirror_mode": {
    "name": "ipython",
    "version": 3
   },
   "file_extension": ".py",
   "mimetype": "text/x-python",
   "name": "python",
   "nbconvert_exporter": "python",
   "pygments_lexer": "ipython3",
   "version": "3.12.5"
  }
 },
 "nbformat": 4,
 "nbformat_minor": 5
}
