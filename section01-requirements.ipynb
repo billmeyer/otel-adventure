{
 "cells": [
  {
   "cell_type": "markdown",
   "id": "f0d374c2-7253-4166-ad59-28d7af270410",
   "metadata": {},
   "source": [
    "# Requirements\n",
    "\n",
    "## Python3\n",
    "\n",
    "Python 3 is required for this workshop. This can be downloaded either from [python.org](https://www.python.org/downloads/) or, on macOS, installed via `brew`:"
   ]
  },
  {
   "cell_type": "code",
   "execution_count": null,
   "id": "642868b2-a06d-4e73-bf20-2599fd3a5701",
   "metadata": {},
   "outputs": [],
   "source": [
    "!brew install python3"
   ]
  },
  {
   "cell_type": "markdown",
   "id": "7858acd9-dc0f-402d-8a01-f3b579e72f8e",
   "metadata": {},
   "source": [
    "## Confirm your **python** version:"
   ]
  },
  {
   "cell_type": "code",
   "execution_count": null,
   "id": "a950e7ad-ede0-456c-bce1-80d5d58fe671",
   "metadata": {},
   "outputs": [],
   "source": [
    "!python3 -V"
   ]
  },
  {
   "cell_type": "markdown",
   "id": "9b6cd48b-3b78-42be-9b3d-c6a9200fc616",
   "metadata": {},
   "source": [
    "#### End of Section"
   ]
  },
  {
   "cell_type": "code",
   "execution_count": null,
   "id": "5a18904f-c316-4455-8dca-d95015fe84ef",
   "metadata": {},
   "outputs": [],
   "source": []
  }
 ],
 "metadata": {
  "kernelspec": {
   "display_name": "Python 3 (ipykernel)",
   "language": "python",
   "name": "python3"
  },
  "language_info": {
   "codemirror_mode": {
    "name": "ipython",
    "version": 3
   },
   "file_extension": ".py",
   "mimetype": "text/x-python",
   "name": "python",
   "nbconvert_exporter": "python",
   "pygments_lexer": "ipython3",
   "version": "3.12.5"
  }
 },
 "nbformat": 4,
 "nbformat_minor": 5
}
