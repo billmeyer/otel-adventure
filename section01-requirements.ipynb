{
 "cells": [
  {
   "cell_type": "markdown",
   "id": "f0d374c2-7253-4166-ad59-28d7af270410",
   "metadata": {},
   "source": [
    "# Requirements\n",
    "\n",
    "## Python3\n",
    "\n",
    "Python 3 is required for this workshop. This can be downloaded either from [python.org](https://www.python.org/downloads/) or installed via `brew`:\n",
    "\n",
    "```bash\n",
    "brew install python3\n",
    "```\n",
    "\n",
    "Confirm your **python** version with:\n",
    "\n",
    "```bash\n",
    "$ python3 -V\n",
    "Python 3.12.5\n",
    "```\n"
   ]
  }
 ],
 "metadata": {
  "kernelspec": {
   "display_name": "Python 3 (ipykernel)",
   "language": "python",
   "name": "python3"
  },
  "language_info": {
   "codemirror_mode": {
    "name": "ipython",
    "version": 3
   },
   "file_extension": ".py",
   "mimetype": "text/x-python",
   "name": "python",
   "nbconvert_exporter": "python",
   "pygments_lexer": "ipython3",
   "version": "3.12.5"
  }
 },
 "nbformat": 4,
 "nbformat_minor": 5
}
