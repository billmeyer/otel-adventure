{
 "cells": [
  {
   "cell_type": "markdown",
   "id": "0ef47b0f-4ae6-40fc-9609-a0a1e251b0c4",
   "metadata": {},
   "source": [
    "# Import OpenTelemetry Modules for Metrics"
   ]
  },
  {
   "cell_type": "code",
   "execution_count": null,
   "id": "1ec279ac-32d8-4189-947c-f9d48601156f",
   "metadata": {
    "jupyter": {
     "is_executing": true
    }
   },
   "outputs": [],
   "source": [
    "from opentelemetry.sdk.resources import Resource\n",
    "from opentelemetry.sdk.metrics import MeterProvider\n",
    "# from opentelemetry.sdk.trace.export import (\n",
    "#     ConsoleSpanExporter,\n",
    "#     BatchSpanProcessor\n",
    "# )\n",
    "from opentelemetry.exporter.otlp.proto.grpc.metric_exporter import OTLPMetricExporter\n",
    "from opentelemetry.sdk.metrics import MeterProvider\n",
    "from opentelemetry.sdk.metrics.export import PeriodicExportingMetricReader\n",
    "from opentelemetry.metrics import (\n",
    "    CallbackOptions,\n",
    "    Observation,\n",
    "    get_meter_provider,\n",
    "    set_meter_provider,\n",
    ")\n",
    "from opentelemetry.sdk.metrics._internal.export import (\n",
    "    AggregationTemporality,\n",
    "    ConsoleMetricExporter\n",
    ")\n",
    "from typing import Iterable\n",
    "from tqdm.notebook import tqdm\n",
    "import random, socket, time"
   ]
  },
  {
   "cell_type": "markdown",
   "id": "7a8467f2-8508-4073-865b-677532466832",
   "metadata": {},
   "source": [
    "# Create a MeterProvider that we can host metrics"
   ]
  },
  {
   "cell_type": "code",
   "execution_count": null,
   "id": "f42d3c07-bb44-443d-97ea-356ddd32d8dd",
   "metadata": {},
   "outputs": [],
   "source": [
    "otlp_exporter = OTLPMetricExporter(endpoint=\"localhost:4317\", insecure=True)\n",
    "console_exporter = ConsoleMetricExporter()\n",
    "\n",
    "reader = PeriodicExportingMetricReader(exporter=otlp_exporter, export_interval_millis=1000)\n",
    "\n",
    "provider = MeterProvider(metric_readers=[reader], resource=Resource.create({\n",
    "    # \"service.name\": \"section03\",\n",
    "    \"service.name\": __name__,\n",
    "    # \"datadog.host.use_as_metadata\": True,\n",
    "    \"deployment.environment\": \"otel\",\n",
    "    \"host.name\": socket.gethostname(),\n",
    "}))\n",
    "\n",
    "set_meter_provider(provider)\n"
   ]
  },
  {
   "cell_type": "markdown",
   "id": "61dd0b28-032d-4e7e-b81f-a2592eebdf8a",
   "metadata": {},
   "source": [
    "# Create some observables"
   ]
  },
  {
   "cell_type": "code",
   "execution_count": null,
   "id": "2196c58a",
   "metadata": {},
   "outputs": [],
   "source": [
    "def observable_counter_func(options: CallbackOptions) -> Iterable[Observation]:\n",
    "    yield Observation(1, {})\n",
    "\n",
    "\n",
    "def observable_up_down_counter_func(\n",
    "    options: CallbackOptions,\n",
    ") -> Iterable[Observation]:\n",
    "    yield Observation(-10, {})\n",
    "\n",
    "\n",
    "def observable_gauge_func(options: CallbackOptions) -> Iterable[Observation]:\n",
    "    yield Observation(9, {})"
   ]
  },
  {
   "cell_type": "code",
   "execution_count": null,
   "id": "924f0154",
   "metadata": {},
   "outputs": [],
   "source": [
    "meter = get_meter_provider().get_meter(\"getting-started\", \"0.1.2\")\n",
    "\n",
    "# Counter\n",
    "counter = meter.create_counter(\"counter\")\n",
    "counter.add(1)\n",
    "\n",
    "# Async Counter\n",
    "observable_counter = meter.create_observable_counter(\n",
    "    \"observable_counter\",\n",
    "    [observable_counter_func],\n",
    ")\n",
    "\n",
    "# UpDownCounter\n",
    "updown_counter = meter.create_up_down_counter(\"updown_counter\")\n",
    "updown_counter.add(1)\n",
    "updown_counter.add(-5)\n",
    "\n",
    "# Async UpDownCounter\n",
    "observable_updown_counter = meter.create_observable_up_down_counter(\n",
    "    \"observable_updown_counter\", [observable_up_down_counter_func]\n",
    ")\n",
    "\n",
    "# Histogram\n",
    "histogram = meter.create_histogram(\"histogram\")\n",
    "histogram.record(99.9)\n",
    "\n",
    "# Async Gauge\n",
    "gauge = meter.create_observable_gauge(\"gauge\", [observable_gauge_func])"
   ]
  },
  {
   "cell_type": "code",
   "execution_count": null,
   "id": "a69dba7c-2742-4f1a-be4b-3ba734e76353",
   "metadata": {},
   "outputs": [],
   "source": [
    "updown_counter.add(35)"
   ]
  },
  {
   "cell_type": "code",
   "execution_count": null,
   "id": "1148bb30",
   "metadata": {},
   "outputs": [],
   "source": [
    "updown_counter.add(-10)"
   ]
  },
  {
   "cell_type": "markdown",
   "id": "91d64c4f-9116-4e4b-ba01-360590fde402",
   "metadata": {},
   "source": [
    "Random increment/decrement the updown counter for the next 10 seconds..."
   ]
  },
  {
   "cell_type": "code",
   "execution_count": null,
   "id": "5168c5e2-2779-49ca-9a6d-3200318701ce",
   "metadata": {},
   "outputs": [],
   "source": [
    "for n in tqdm(range(10)):\n",
    "    updown_counter.add(random.randint(-20, 20))\n",
    "    time.sleep(1)"
   ]
  },
  {
   "cell_type": "markdown",
   "id": "88b0ac89-b4a8-44ac-887d-5a2c354350eb",
   "metadata": {},
   "source": [
    "#### End of Section"
   ]
  },
  {
   "cell_type": "code",
   "execution_count": null,
   "id": "1d589be3-472b-4f87-b9c1-19d319ecc53a",
   "metadata": {},
   "outputs": [],
   "source": []
  }
 ],
 "metadata": {
  "kernelspec": {
   "display_name": "Python 3 (ipykernel)",
   "language": "python",
   "name": "python3"
  },
  "language_info": {
   "codemirror_mode": {
    "name": "ipython",
    "version": 3
   },
   "file_extension": ".py",
   "mimetype": "text/x-python",
   "name": "python",
   "nbconvert_exporter": "python",
   "pygments_lexer": "ipython3",
   "version": "3.12.5"
  }
 },
 "nbformat": 4,
 "nbformat_minor": 5
}
